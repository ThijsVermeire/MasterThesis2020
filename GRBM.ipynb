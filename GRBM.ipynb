{
 "cells": [
  {
   "cell_type": "markdown",
   "source": [
    "# PART 3: RGBM\n",
    "\n",
    "**_TABLE OF CONTENT_**\n",
    "     0. General Functions\n",
    "     1. AAPL\n",
    "        1.1 Train and test set size\n",
    "        1.2 RBM\n",
    "        1.2.1 GRBM-LR\n",
    "        1.2.2 GRBM-SVM\n",
    "        1.2.3 GRBM-\n",
    "     2. AMZN\n",
    "     3. GOOG\n",
    "     4. FB\n",
    "     5. NFLX"
   ],
   "metadata": {
    "collapsed": false
   }
  },
  {
   "cell_type": "code",
   "execution_count": null,
   "outputs": [],
   "source": [
    "import pandas as pd\n",
    "import numpy as np\n",
    "import matplotlib.pyplot as plt\n",
    "import seaborn as sns\n",
    "\n"
   ],
   "metadata": {
    "collapsed": false,
    "pycharm": {
     "name": "#%%\n"
    }
   }
  }
 ],
 "metadata": {
  "kernelspec": {
   "display_name": "Python 3",
   "language": "python",
   "name": "python3"
  },
  "language_info": {
   "codemirror_mode": {
    "name": "ipython",
    "version": 2
   },
   "file_extension": ".py",
   "mimetype": "text/x-python",
   "name": "python",
   "nbconvert_exporter": "python",
   "pygments_lexer": "ipython2",
   "version": "2.7.6"
  }
 },
 "nbformat": 4,
 "nbformat_minor": 0
}