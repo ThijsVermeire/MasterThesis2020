{
 "cells": [
  {
   "cell_type": "markdown",
   "source": [
    "# PART 3: CNN\n",
    "\n",
    "**_TABLE OF CONTENT_**\n",
    "     0. General Functions\n",
    "     1. AAPL\n",
    "        1.1 Train and test set size\n",
    "        1.2 CNN\n",
    "     2. AMZN\n",
    "     3. GOOG\n",
    "     4. FB\n",
    "     5. NFLX"
   ],
   "metadata": {
    "collapsed": false
   }
  },
  {
   "cell_type": "code",
   "execution_count": 1,
   "outputs": [],
   "source": [
    "import pandas as pd\n",
    "import numpy as np\n",
    "from IPython.core.display import display\n",
    "from keras.models import Sequential\n",
    "from keras.layers import Dense, RepeatVector, Flatten, TimeDistributed, LSTM, Dropout\n",
    "from preprocessing import create_basetable\n",
    "from keras.layers.convolutional import Conv1D, MaxPooling1D\n",
    "from sklearn import metrics\n",
    "import matplotlib.pyplot as plt\n",
    "from keras.callbacks import ModelCheckpoint, EarlyStopping\n",
    "from tensorflow.keras import regularizers\n",
    "from datetime import date\n",
    "\n",
    "from helpFunctions import *"
   ],
   "metadata": {
    "collapsed": false,
    "pycharm": {
     "name": "#%%\n"
    }
   }
  },
  {
   "cell_type": "markdown",
   "source": [
    "## 0. General functions"
   ],
   "metadata": {
    "collapsed": false
   }
  },
  {
   "cell_type": "code",
   "execution_count": 2,
   "outputs": [],
   "source": [
    "start_independent = date(2020, 3, 22)\n",
    "end_independent= date(2020, 11, 30)\n",
    "start_dependent = date(2020, 12, 1)"
   ],
   "metadata": {
    "collapsed": false,
    "pycharm": {
     "name": "#%%\n"
    }
   }
  },
  {
   "cell_type": "code",
   "execution_count": 3,
   "outputs": [],
   "source": [
    "def CNNClassifier(x_train, x_test, y_train, y_test):\n",
    "\n",
    "    # Shape testing data\n",
    "    df_for_testing_scaled = pd.merge(pd.DataFrame(y_test).reset_index(drop=True),\n",
    "                                 pd.DataFrame(x_test).reset_index(drop=True),\n",
    "                                 how='inner',\n",
    "                                 left_index=True,\n",
    "                                 right_index=True)\n",
    "    df_for_testing_scaled = np.array(df_for_testing_scaled)\n",
    "    testX = []\n",
    "    testY = []\n",
    "    n_future = 1   # Number of days we want to predict into the future\n",
    "    n_past = 14     # Number of past days we want to use to predict the future\n",
    "    for i in range(n_past, len(df_for_testing_scaled) - n_future +1):\n",
    "        testX.append(df_for_testing_scaled[i - n_past:i, 0:df_for_testing_scaled.shape[1]])\n",
    "        testY.append(df_for_testing_scaled[i + n_future - 1:i + n_future, 0])\n",
    "    testX, testY = np.array(testX), np.array(testY)\n",
    "\n",
    "\n",
    "    # Shape training data\n",
    "    df_for_training_scaled = pd.merge(pd.DataFrame(y_train).reset_index(drop=True),\n",
    "                                     pd.DataFrame(x_train).reset_index(drop=True),\n",
    "                                     how='inner',\n",
    "                                     left_index=True,\n",
    "                                     right_index=True)\n",
    "    df_for_training_scaled = np.array(df_for_training_scaled)\n",
    "    trainX = []\n",
    "    trainY = []\n",
    "    for i in range(n_past, len(df_for_training_scaled) - n_future +1):\n",
    "        trainX.append(df_for_training_scaled[i - n_past:i, 0:df_for_training_scaled.shape[1]])\n",
    "        trainY.append(df_for_training_scaled[i + n_future - 1:i + n_future, 0])\n",
    "    trainX, trainY = np.array(trainX), np.array(trainY)\n",
    "\n",
    "    # define CNN model\n",
    "    model = Sequential()\n",
    "    model.add(Conv1D(filters=128, kernel_size=5, activation='relu',input_shape=(trainX.shape[1], trainX.shape[2])))\n",
    "    model.add(MaxPooling1D(pool_size=2, padding='same'))\n",
    "    model.add(Conv1D(filters=128, kernel_size=5, activation='relu'))\n",
    "    model.add(MaxPooling1D(pool_size=2, padding='same'))\n",
    "    model.add(Flatten())\n",
    "    model.add(Dense(120, activation='relu'))\n",
    "    model.add(Dense(80, activation='relu'))\n",
    "    model.add(Dense(1, activation='sigmoid'))\n",
    "    model.compile(optimizer='adam', loss='binary_crossentropy', metrics=['accuracy'])\n",
    "    model.summary()\n",
    "\n",
    "    # fit model\n",
    "    model.fit(trainX, trainY, epochs=1000, verbose=0)\n",
    "    # plt.plot(history.history['loss'], label='Training loss')\n",
    "    # plt.plot(history.history['val_loss'], label='Validation loss')\n",
    "    # plt.legend()\n",
    "    # plt.show()\n",
    "\n",
    "    pred  = model.predict_classes(testX)\n",
    "    #  Test model\n",
    "    _, train_acc = model.evaluate(trainX, trainY, verbose=0)\n",
    "    _, test_acc = model.evaluate(testX, testY, verbose=0)\n",
    "    print('AUC: {}'.format (metrics.roc_auc_score(testY, pred)))\n",
    "    print('Train: %.3f, Test: %.3f' % (train_acc, test_acc))\n",
    "    plot_roc(testY, pred)\n",
    "    plot_confusion_matrix(testY, pred)\n"
   ],
   "metadata": {
    "collapsed": false,
    "pycharm": {
     "name": "#%%\n"
    }
   }
  },
  {
   "cell_type": "markdown",
   "source": [
    "## 1. AAPL"
   ],
   "metadata": {
    "collapsed": false
   }
  },
  {
   "cell_type": "code",
   "execution_count": 4,
   "outputs": [
    {
     "name": "stdout",
     "output_type": "stream",
     "text": [
      "Wall time: 37.8 s\n"
     ]
    }
   ],
   "source": [
    "%%time\n",
    "tck = 'AAPL'\n",
    "# Retrieved scaled train and test set for specified stock symbol\n",
    "x_train, x_test, y_train, y_test = create_basetable(tck,\n",
    "                                                  start_independent= start_independent,\n",
    "                                                  end_independent= end_independent,\n",
    "                                                  start_dependent= start_dependent)"
   ],
   "metadata": {
    "collapsed": false,
    "pycharm": {
     "name": "#%%\n"
    }
   }
  },
  {
   "cell_type": "markdown",
   "source": [
    "Inspect the size of the training and test set"
   ],
   "metadata": {
    "collapsed": false
   }
  },
  {
   "cell_type": "code",
   "execution_count": 5,
   "outputs": [
    {
     "name": "stdout",
     "output_type": "stream",
     "text": [
      "--------Training set--------\n",
      "Total number of observations:  152\n",
      "Number of sell observations :  63\n",
      "Number of buy observations :  89\n",
      "\n",
      "--------Test set--------\n",
      "Total number of observations:  71\n",
      "Number of sell observations :  40\n",
      "Number of buy observations :  31\n"
     ]
    }
   ],
   "source": [
    "buy_sell_observations(y_train, y_test)"
   ],
   "metadata": {
    "collapsed": false,
    "pycharm": {
     "name": "#%%\n"
    }
   }
  },
  {
   "cell_type": "markdown",
   "source": [
    "CNN model"
   ],
   "metadata": {
    "collapsed": false
   }
  },
  {
   "cell_type": "code",
   "execution_count": 6,
   "outputs": [
    {
     "name": "stdout",
     "output_type": "stream",
     "text": [
      "Model: \"sequential\"\n",
      "_________________________________________________________________\n",
      "Layer (type)                 Output Shape              Param #   \n",
      "=================================================================\n",
      "conv1d (Conv1D)              (None, 10, 128)           87808     \n",
      "_________________________________________________________________\n",
      "max_pooling1d (MaxPooling1D) (None, 5, 128)            0         \n",
      "_________________________________________________________________\n",
      "conv1d_1 (Conv1D)            (None, 1, 128)            82048     \n",
      "_________________________________________________________________\n",
      "max_pooling1d_1 (MaxPooling1 (None, 1, 128)            0         \n",
      "_________________________________________________________________\n",
      "flatten (Flatten)            (None, 128)               0         \n",
      "_________________________________________________________________\n",
      "dense (Dense)                (None, 120)               15480     \n",
      "_________________________________________________________________\n",
      "dense_1 (Dense)              (None, 80)                9680      \n",
      "_________________________________________________________________\n",
      "dense_2 (Dense)              (None, 1)                 81        \n",
      "=================================================================\n",
      "Total params: 195,097\n",
      "Trainable params: 195,097\n",
      "Non-trainable params: 0\n",
      "_________________________________________________________________\n",
      "AUC: 0.5303030303030303\n",
      "Train: 1.000, Test: 0.456\n"
     ]
    },
    {
     "name": "stderr",
     "output_type": "stream",
     "text": [
      "c:\\users\\thijs vermeire\\ideaprojects\\masterthesis\\venv2\\lib\\site-packages\\tensorflow\\python\\keras\\engine\\sequential.py:450: UserWarning: `model.predict_classes()` is deprecated and will be removed after 2021-01-01. Please use instead:* `np.argmax(model.predict(x), axis=-1)`,   if your model does multi-class classification   (e.g. if it uses a `softmax` last-layer activation).* `(model.predict(x) > 0.5).astype(\"int32\")`,   if your model does binary classification   (e.g. if it uses a `sigmoid` last-layer activation).\n",
      "  warnings.warn('`model.predict_classes()` is deprecated and '\n"
     ]
    },
    {
     "data": {
      "text/plain": "<Figure size 432x288 with 1 Axes>",
      "image/png": "[encoded data removed]"
     },
     "metadata": {
      "needs_background": "light"
     },
     "output_type": "display_data"
    },
    {
     "data": {
      "text/plain": "<Figure size 432x288 with 2 Axes>",
      "image/png": "[encoded data removed]"
     },
     "metadata": {
      "needs_background": "light"
     },
     "output_type": "display_data"
    }
   ],
   "source": [
    "CNNClassifier(x_train,x_test, y_train, y_test)"
   ],
   "metadata": {
    "collapsed": false,
    "pycharm": {
     "name": "#%%\n"
    }
   }
  },
  {
   "cell_type": "markdown",
   "source": [
    "## 2. GOOG"
   ],
   "metadata": {
    "collapsed": false
   }
  },
  {
   "cell_type": "code",
   "execution_count": 7,
   "outputs": [
    {
     "name": "stdout",
     "output_type": "stream",
     "text": [
      "Wall time: 35.4 s\n"
     ]
    }
   ],
   "source": [
    "%%time\n",
    "tck = 'GOOG'\n",
    "# Retrieved scaled train and test set for specified stock symbol\n",
    "x_train, x_test, y_train, y_test = create_basetable(tck,\n",
    "                                                  start_independent= start_independent,\n",
    "                                                  end_independent= end_independent,\n",
    "                                                  start_dependent= start_dependent)"
   ],
   "metadata": {
    "collapsed": false,
    "pycharm": {
     "name": "#%%\n"
    }
   }
  },
  {
   "cell_type": "markdown",
   "source": [
    "Inspect the size of the training and test set"
   ],
   "metadata": {
    "collapsed": false
   }
  },
  {
   "cell_type": "code",
   "execution_count": 8,
   "outputs": [
    {
     "name": "stdout",
     "output_type": "stream",
     "text": [
      "--------Training set--------\n",
      "Total number of observations:  152\n",
      "Number of sell observations :  58\n",
      "Number of buy observations :  94\n",
      "\n",
      "--------Test set--------\n",
      "Total number of observations:  71\n",
      "Number of sell observations :  33\n",
      "Number of buy observations :  38\n"
     ]
    }
   ],
   "source": [
    "buy_sell_observations(y_train, y_test)"
   ],
   "metadata": {
    "collapsed": false,
    "pycharm": {
     "name": "#%%\n"
    }
   }
  },
  {
   "cell_type": "markdown",
   "source": [
    "CNN model"
   ],
   "metadata": {
    "collapsed": false
   }
  },
  {
   "cell_type": "code",
   "execution_count": 9,
   "outputs": [
    {
     "name": "stdout",
     "output_type": "stream",
     "text": [
      "Model: \"sequential_1\"\n",
      "_________________________________________________________________\n",
      "Layer (type)                 Output Shape              Param #   \n",
      "=================================================================\n",
      "conv1d_2 (Conv1D)            (None, 10, 128)           87808     \n",
      "_________________________________________________________________\n",
      "max_pooling1d_2 (MaxPooling1 (None, 5, 128)            0         \n",
      "_________________________________________________________________\n",
      "conv1d_3 (Conv1D)            (None, 1, 128)            82048     \n",
      "_________________________________________________________________\n",
      "max_pooling1d_3 (MaxPooling1 (None, 1, 128)            0         \n",
      "_________________________________________________________________\n",
      "flatten_1 (Flatten)          (None, 128)               0         \n",
      "_________________________________________________________________\n",
      "dense_3 (Dense)              (None, 120)               15480     \n",
      "_________________________________________________________________\n",
      "dense_4 (Dense)              (None, 80)                9680      \n",
      "_________________________________________________________________\n",
      "dense_5 (Dense)              (None, 1)                 81        \n",
      "=================================================================\n",
      "Total params: 195,097\n",
      "Trainable params: 195,097\n",
      "Non-trainable params: 0\n",
      "_________________________________________________________________\n",
      "AUC: 0.4622762148337596\n",
      "Train: 1.000, Test: 0.526\n"
     ]
    },
    {
     "name": "stderr",
     "output_type": "stream",
     "text": [
      "c:\\users\\thijs vermeire\\ideaprojects\\masterthesis\\venv2\\lib\\site-packages\\tensorflow\\python\\keras\\engine\\sequential.py:450: UserWarning: `model.predict_classes()` is deprecated and will be removed after 2021-01-01. Please use instead:* `np.argmax(model.predict(x), axis=-1)`,   if your model does multi-class classification   (e.g. if it uses a `softmax` last-layer activation).* `(model.predict(x) > 0.5).astype(\"int32\")`,   if your model does binary classification   (e.g. if it uses a `sigmoid` last-layer activation).\n",
      "  warnings.warn('`model.predict_classes()` is deprecated and '\n"
     ]
    },
    {
     "data": {
      "text/plain": "<Figure size 432x288 with 1 Axes>",
      "image/png": "[encoded data removed]"
     },
     "metadata": {
      "needs_background": "light"
     },
     "output_type": "display_data"
    },
    {
     "data": {
      "text/plain": "<Figure size 432x288 with 2 Axes>",
      "image/png": "[encoded data removed]"
     },
     "metadata": {
      "needs_background": "light"
     },
     "output_type": "display_data"
    }
   ],
   "source": [
    "CNNClassifier(x_train,x_test, y_train, y_test)"
   ],
   "metadata": {
    "collapsed": false,
    "pycharm": {
     "name": "#%%\n"
    }
   }
  },
  {
   "cell_type": "markdown",
   "source": [
    "## 3. FB"
   ],
   "metadata": {
    "collapsed": false
   }
  },
  {
   "cell_type": "code",
   "execution_count": 10,
   "outputs": [
    {
     "name": "stdout",
     "output_type": "stream",
     "text": [
      "Wall time: 34.9 s\n"
     ]
    }
   ],
   "source": [
    "%%time\n",
    "tck = 'FB'\n",
    "# Retrieved scaled train and test set for specified stock symbol\n",
    "x_train, x_test, y_train, y_test = create_basetable(tck,\n",
    "                                                  start_independent= start_independent,\n",
    "                                                  end_independent= end_independent,\n",
    "                                                  start_dependent= start_dependent)"
   ],
   "metadata": {
    "collapsed": false,
    "pycharm": {
     "name": "#%%\n"
    }
   }
  },
  {
   "cell_type": "markdown",
   "source": [
    "Inspect the size of the training and test set"
   ],
   "metadata": {
    "collapsed": false
   }
  },
  {
   "cell_type": "code",
   "execution_count": 11,
   "outputs": [
    {
     "name": "stdout",
     "output_type": "stream",
     "text": [
      "--------Training set--------\n",
      "Total number of observations:  152\n",
      "Number of sell observations :  63\n",
      "Number of buy observations :  89\n",
      "\n",
      "--------Test set--------\n",
      "Total number of observations:  71\n",
      "Number of sell observations :  36\n",
      "Number of buy observations :  35\n"
     ]
    }
   ],
   "source": [
    "buy_sell_observations(y_train, y_test)"
   ],
   "metadata": {
    "collapsed": false,
    "pycharm": {
     "name": "#%%\n"
    }
   }
  },
  {
   "cell_type": "markdown",
   "source": [
    "CNN model"
   ],
   "metadata": {
    "collapsed": false
   }
  },
  {
   "cell_type": "code",
   "execution_count": 12,
   "outputs": [
    {
     "name": "stdout",
     "output_type": "stream",
     "text": [
      "Model: \"sequential_2\"\n",
      "_________________________________________________________________\n",
      "Layer (type)                 Output Shape              Param #   \n",
      "=================================================================\n",
      "conv1d_4 (Conv1D)            (None, 10, 128)           87808     \n",
      "_________________________________________________________________\n",
      "max_pooling1d_4 (MaxPooling1 (None, 5, 128)            0         \n",
      "_________________________________________________________________\n",
      "conv1d_5 (Conv1D)            (None, 1, 128)            82048     \n",
      "_________________________________________________________________\n",
      "max_pooling1d_5 (MaxPooling1 (None, 1, 128)            0         \n",
      "_________________________________________________________________\n",
      "flatten_2 (Flatten)          (None, 128)               0         \n",
      "_________________________________________________________________\n",
      "dense_6 (Dense)              (None, 120)               15480     \n",
      "_________________________________________________________________\n",
      "dense_7 (Dense)              (None, 80)                9680      \n",
      "_________________________________________________________________\n",
      "dense_8 (Dense)              (None, 1)                 81        \n",
      "=================================================================\n",
      "Total params: 195,097\n",
      "Trainable params: 195,097\n",
      "Non-trainable params: 0\n",
      "_________________________________________________________________\n",
      "AUC: 0.5388888888888889\n",
      "Train: 1.000, Test: 0.544\n"
     ]
    },
    {
     "name": "stderr",
     "output_type": "stream",
     "text": [
      "c:\\users\\thijs vermeire\\ideaprojects\\masterthesis\\venv2\\lib\\site-packages\\tensorflow\\python\\keras\\engine\\sequential.py:450: UserWarning: `model.predict_classes()` is deprecated and will be removed after 2021-01-01. Please use instead:* `np.argmax(model.predict(x), axis=-1)`,   if your model does multi-class classification   (e.g. if it uses a `softmax` last-layer activation).* `(model.predict(x) > 0.5).astype(\"int32\")`,   if your model does binary classification   (e.g. if it uses a `sigmoid` last-layer activation).\n",
      "  warnings.warn('`model.predict_classes()` is deprecated and '\n"
     ]
    },
    {
     "data": {
      "text/plain": "<Figure size 432x288 with 1 Axes>",
      "image/png": "[encoded data removed]"
     },
     "metadata": {
      "needs_background": "light"
     },
     "output_type": "display_data"
    },
    {
     "data": {
      "text/plain": "<Figure size 432x288 with 2 Axes>",
      "image/png": "[encoded data removed]"
     },
     "metadata": {
      "needs_background": "light"
     },
     "output_type": "display_data"
    }
   ],
   "source": [
    "CNNClassifier(x_train,x_test, y_train, y_test)"
   ],
   "metadata": {
    "collapsed": false,
    "pycharm": {
     "name": "#%%\n"
    }
   }
  },
  {
   "cell_type": "markdown",
   "source": [
    "## 4. AMZN"
   ],
   "metadata": {
    "collapsed": false
   }
  },
  {
   "cell_type": "code",
   "execution_count": 13,
   "outputs": [
    {
     "name": "stdout",
     "output_type": "stream",
     "text": [
      "Wall time: 35.5 s\n"
     ]
    }
   ],
   "source": [
    "%%time\n",
    "tck = 'AMZN'\n",
    "# Retrieved scaled train and test set for specified stock symbol\n",
    "x_train, x_test, y_train, y_test = create_basetable(tck,\n",
    "                                                  start_independent= start_independent,\n",
    "                                                  end_independent= end_independent,\n",
    "                                                  start_dependent= start_dependent)"
   ],
   "metadata": {
    "collapsed": false,
    "pycharm": {
     "name": "#%%\n"
    }
   }
  },
  {
   "cell_type": "markdown",
   "source": [
    "Inspect the size of the training and test set"
   ],
   "metadata": {
    "collapsed": false
   }
  },
  {
   "cell_type": "code",
   "execution_count": 14,
   "outputs": [
    {
     "name": "stdout",
     "output_type": "stream",
     "text": [
      "--------Training set--------\n",
      "Total number of observations:  152\n",
      "Number of sell observations :  61\n",
      "Number of buy observations :  91\n",
      "\n",
      "--------Test set--------\n",
      "Total number of observations:  71\n",
      "Number of sell observations :  36\n",
      "Number of buy observations :  35\n"
     ]
    }
   ],
   "source": [
    "buy_sell_observations(y_train, y_test)"
   ],
   "metadata": {
    "collapsed": false,
    "pycharm": {
     "name": "#%%\n"
    }
   }
  },
  {
   "cell_type": "markdown",
   "source": [
    "CNN model"
   ],
   "metadata": {
    "collapsed": false
   }
  },
  {
   "cell_type": "code",
   "execution_count": 15,
   "outputs": [
    {
     "name": "stdout",
     "output_type": "stream",
     "text": [
      "Model: \"sequential_3\"\n",
      "_________________________________________________________________\n",
      "Layer (type)                 Output Shape              Param #   \n",
      "=================================================================\n",
      "conv1d_6 (Conv1D)            (None, 10, 128)           87808     \n",
      "_________________________________________________________________\n",
      "max_pooling1d_6 (MaxPooling1 (None, 5, 128)            0         \n",
      "_________________________________________________________________\n",
      "conv1d_7 (Conv1D)            (None, 1, 128)            82048     \n",
      "_________________________________________________________________\n",
      "max_pooling1d_7 (MaxPooling1 (None, 1, 128)            0         \n",
      "_________________________________________________________________\n",
      "flatten_3 (Flatten)          (None, 128)               0         \n",
      "_________________________________________________________________\n",
      "dense_9 (Dense)              (None, 120)               15480     \n",
      "_________________________________________________________________\n",
      "dense_10 (Dense)             (None, 80)                9680      \n",
      "_________________________________________________________________\n",
      "dense_11 (Dense)             (None, 1)                 81        \n",
      "=================================================================\n",
      "Total params: 195,097\n",
      "Trainable params: 195,097\n",
      "Non-trainable params: 0\n",
      "_________________________________________________________________\n",
      "AUC: 0.5954433497536945\n",
      "Train: 1.000, Test: 0.596\n"
     ]
    },
    {
     "name": "stderr",
     "output_type": "stream",
     "text": [
      "c:\\users\\thijs vermeire\\ideaprojects\\masterthesis\\venv2\\lib\\site-packages\\tensorflow\\python\\keras\\engine\\sequential.py:450: UserWarning: `model.predict_classes()` is deprecated and will be removed after 2021-01-01. Please use instead:* `np.argmax(model.predict(x), axis=-1)`,   if your model does multi-class classification   (e.g. if it uses a `softmax` last-layer activation).* `(model.predict(x) > 0.5).astype(\"int32\")`,   if your model does binary classification   (e.g. if it uses a `sigmoid` last-layer activation).\n",
      "  warnings.warn('`model.predict_classes()` is deprecated and '\n"
     ]
    },
    {
     "data": {
      "text/plain": "<Figure size 432x288 with 1 Axes>",
      "image/png": "[encoded data removed]"
     },
     "metadata": {
      "needs_background": "light"
     },
     "output_type": "display_data"
    },
    {
     "data": {
      "text/plain": "<Figure size 432x288 with 2 Axes>",
      "image/png": "[encoded data removed]"
     },
     "metadata": {
      "needs_background": "light"
     },
     "output_type": "display_data"
    }
   ],
   "source": [
    "CNNClassifier(x_train,x_test, y_train, y_test)"
   ],
   "metadata": {
    "collapsed": false,
    "pycharm": {
     "name": "#%%\n"
    }
   }
  },
  {
   "cell_type": "markdown",
   "source": [
    "## 5. NFLX"
   ],
   "metadata": {
    "collapsed": false
   }
  },
  {
   "cell_type": "code",
   "execution_count": 16,
   "outputs": [
    {
     "name": "stdout",
     "output_type": "stream",
     "text": [
      "Wall time: 35.3 s\n"
     ]
    }
   ],
   "source": [
    "%%time\n",
    "tck = 'NFLX'\n",
    "# Retrieved scaled train and test set for specified stock symbol\n",
    "x_train, x_test, y_train, y_test = create_basetable(tck,\n",
    "                                                  start_independent= start_independent,\n",
    "                                                  end_independent= end_independent,\n",
    "                                                  start_dependent= start_dependent)"
   ],
   "metadata": {
    "collapsed": false,
    "pycharm": {
     "name": "#%%\n"
    }
   }
  },
  {
   "cell_type": "markdown",
   "source": [
    "Inspect the size of the training and test set"
   ],
   "metadata": {
    "collapsed": false
   }
  },
  {
   "cell_type": "code",
   "execution_count": 17,
   "outputs": [
    {
     "name": "stdout",
     "output_type": "stream",
     "text": [
      "--------Training set--------\n",
      "Total number of observations:  151\n",
      "Number of sell observations :  69\n",
      "Number of buy observations :  82\n",
      "\n",
      "--------Test set--------\n",
      "Total number of observations:  71\n",
      "Number of sell observations :  37\n",
      "Number of buy observations :  34\n"
     ]
    }
   ],
   "source": [
    "buy_sell_observations(y_train, y_test)"
   ],
   "metadata": {
    "collapsed": false,
    "pycharm": {
     "name": "#%%\n"
    }
   }
  },
  {
   "cell_type": "markdown",
   "source": [
    "CNN model"
   ],
   "metadata": {
    "collapsed": false
   }
  },
  {
   "cell_type": "code",
   "execution_count": 30,
   "outputs": [
    {
     "name": "stdout",
     "output_type": "stream",
     "text": [
      "Model: \"sequential_16\"\n",
      "_________________________________________________________________\n",
      "Layer (type)                 Output Shape              Param #   \n",
      "=================================================================\n",
      "conv1d_32 (Conv1D)           (None, 10, 128)           87808     \n",
      "_________________________________________________________________\n",
      "max_pooling1d_32 (MaxPooling (None, 5, 128)            0         \n",
      "_________________________________________________________________\n",
      "conv1d_33 (Conv1D)           (None, 1, 128)            82048     \n",
      "_________________________________________________________________\n",
      "max_pooling1d_33 (MaxPooling (None, 1, 128)            0         \n",
      "_________________________________________________________________\n",
      "flatten_16 (Flatten)         (None, 128)               0         \n",
      "_________________________________________________________________\n",
      "dense_48 (Dense)             (None, 120)               15480     \n",
      "_________________________________________________________________\n",
      "dense_49 (Dense)             (None, 80)                9680      \n",
      "_________________________________________________________________\n",
      "dense_50 (Dense)             (None, 1)                 81        \n",
      "=================================================================\n",
      "Total params: 195,097\n",
      "Trainable params: 195,097\n",
      "Non-trainable params: 0\n",
      "_________________________________________________________________\n",
      "WARNING:tensorflow:6 out of the last 11 calls to <function Model.make_predict_function.<locals>.predict_function at 0x000001E90DACF820> triggered tf.function retracing. Tracing is expensive and the excessive number of tracings could be due to (1) creating @tf.function repeatedly in a loop, (2) passing tensors with different shapes, (3) passing Python objects instead of tensors. For (1), please define your @tf.function outside of the loop. For (2), @tf.function has experimental_relax_shapes=True option that relaxes argument shapes that can avoid unnecessary retracing. For (3), please refer to https://www.tensorflow.org/guide/function#controlling_retracing and https://www.tensorflow.org/api_docs/python/tf/function for  more details.\n",
      "AUC: 0.5595533498759304\n",
      "Train: 1.000, Test: 0.561\n"
     ]
    },
    {
     "name": "stderr",
     "output_type": "stream",
     "text": [
      "c:\\users\\thijs vermeire\\ideaprojects\\masterthesis\\venv2\\lib\\site-packages\\tensorflow\\python\\keras\\engine\\sequential.py:450: UserWarning: `model.predict_classes()` is deprecated and will be removed after 2021-01-01. Please use instead:* `np.argmax(model.predict(x), axis=-1)`,   if your model does multi-class classification   (e.g. if it uses a `softmax` last-layer activation).* `(model.predict(x) > 0.5).astype(\"int32\")`,   if your model does binary classification   (e.g. if it uses a `sigmoid` last-layer activation).\n",
      "  warnings.warn('`model.predict_classes()` is deprecated and '\n"
     ]
    },
    {
     "data": {
      "text/plain": "<Figure size 432x288 with 1 Axes>",
      "image/png": "[encoded data removed]"
     },
     "metadata": {
      "needs_background": "light"
     },
     "output_type": "display_data"
    },
    {
     "data": {
      "text/plain": "<Figure size 432x288 with 2 Axes>",
      "image/png": "[encoded data removed]"
     },
     "metadata": {
      "needs_background": "light"
     },
     "output_type": "display_data"
    }
   ],
   "source": [
    "CNNClassifier(x_train,x_test, y_train, y_test)"
   ],
   "metadata": {
    "collapsed": false,
    "pycharm": {
     "name": "#%%\n"
    }
   }
  }
 ],
 "metadata": {
  "kernelspec": {
   "display_name": "Python 3",
   "language": "python",
   "name": "python3"
  },
  "language_info": {
   "codemirror_mode": {
    "name": "ipython",
    "version": 2
   },
   "file_extension": ".py",
   "mimetype": "text/x-python",
   "name": "python",
   "nbconvert_exporter": "python",
   "pygments_lexer": "ipython2",
   "version": "2.7.6"
  }
 },
 "nbformat": 4,
 "nbformat_minor": 0
}